{
 "cells": [
  {
   "cell_type": "code",
   "execution_count": 1,
   "id": "a7448256",
   "metadata": {},
   "outputs": [],
   "source": [
    "#sklearn and matplotlib  \n",
    "\n",
    "from sklearn.svm import SVC \n",
    "from sklearn.cluster import SpectralClustering \n",
    "from sklearn.metrics import normalized_mutual_info_score \n",
    "from sklearn.decomposition import KernelPCA \n",
    "from sklearn.linear_model import LogisticRegression \n",
    "from sklearn import datasets \n",
    "from sklearn.decomposition import PCA \n",
    "from sklearn.tree import DecisionTreeClassifier, plot_tree \n",
    "from sklearn.neighbors import KNeighborsClassifier \n",
    "from sklearn import metrics \n",
    "from sklearn.model_selection import train_test_split \n",
    "from sklearn.preprocessing import StandardScaler, MinMaxScaler"
   ]
  }
 ],
 "metadata": {
  "kernelspec": {
   "display_name": "base",
   "language": "python",
   "name": "python3"
  },
  "language_info": {
   "codemirror_mode": {
    "name": "ipython",
    "version": 3
   },
   "file_extension": ".py",
   "mimetype": "text/x-python",
   "name": "python",
   "nbconvert_exporter": "python",
   "pygments_lexer": "ipython3",
   "version": "3.13.5"
  }
 },
 "nbformat": 4,
 "nbformat_minor": 5
}
